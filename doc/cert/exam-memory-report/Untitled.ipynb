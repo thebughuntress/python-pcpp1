{
 "cells": [
  {
   "cell_type": "code",
   "execution_count": 1,
   "id": "136ba8a6",
   "metadata": {},
   "outputs": [
    {
     "data": {
      "text/plain": [
       "'weapon'"
      ]
     },
     "execution_count": 1,
     "metadata": {},
     "output_type": "execute_result"
    }
   ],
   "source": [
    "class Sword:\n",
    "    var1 = 'weapon'\n",
    "    \n",
    "    def __init__(self):\n",
    "        self.name = 'Excalibur'\n",
    "\n",
    "s = Sword\n",
    "s.var1"
   ]
  },
  {
   "cell_type": "code",
   "execution_count": 2,
   "id": "943bc316",
   "metadata": {},
   "outputs": [
    {
     "ename": "KeyboardInterrupt",
     "evalue": "",
     "output_type": "error",
     "traceback": [
      "\u001b[1;31m---------------------------------------------------------------------------\u001b[0m",
      "\u001b[1;31mKeyboardInterrupt\u001b[0m                         Traceback (most recent call last)",
      "Cell \u001b[1;32mIn[2], line 15\u001b[0m\n\u001b[0;32m     12\u001b[0m button2\u001b[38;5;241m.\u001b[39mconfigure(font\u001b[38;5;241m=\u001b[39m(\u001b[38;5;124m\"\u001b[39m\u001b[38;5;124mArial\u001b[39m\u001b[38;5;124m\"\u001b[39m, \u001b[38;5;241m12\u001b[39m))\n\u001b[0;32m     13\u001b[0m button2\u001b[38;5;241m.\u001b[39mpack()\n\u001b[1;32m---> 15\u001b[0m root\u001b[38;5;241m.\u001b[39mmainloop()\n",
      "File \u001b[1;32m~\\AppData\\Local\\anaconda3\\Lib\\tkinter\\__init__.py:1485\u001b[0m, in \u001b[0;36mMisc.mainloop\u001b[1;34m(self, n)\u001b[0m\n\u001b[0;32m   1483\u001b[0m \u001b[38;5;28;01mdef\u001b[39;00m \u001b[38;5;21mmainloop\u001b[39m(\u001b[38;5;28mself\u001b[39m, n\u001b[38;5;241m=\u001b[39m\u001b[38;5;241m0\u001b[39m):\n\u001b[0;32m   1484\u001b[0m \u001b[38;5;250m    \u001b[39m\u001b[38;5;124;03m\"\"\"Call the mainloop of Tk.\"\"\"\u001b[39;00m\n\u001b[1;32m-> 1485\u001b[0m     \u001b[38;5;28mself\u001b[39m\u001b[38;5;241m.\u001b[39mtk\u001b[38;5;241m.\u001b[39mmainloop(n)\n",
      "\u001b[1;31mKeyboardInterrupt\u001b[0m: "
     ]
    }
   ],
   "source": [
    "import tkinter as tk\n",
    "\n",
    "root = tk.Tk()\n",
    "root.geometry(\"200x100\")\n",
    "\n",
    "# Method 1: Setting font during button creation\n",
    "button1 = tk.Button(root, text=\"Button 1\", font=(\"Arial\", 12))\n",
    "button1.pack()\n",
    "\n",
    "# Method 2: Configuring font after button creation\n",
    "button2 = tk.Button(root, text=\"Button 2\")\n",
    "button2.configure(font=(\"Arial\", 12))\n",
    "button2.pack()\n",
    "\n",
    "root.mainloop()"
   ]
  },
  {
   "cell_type": "code",
   "execution_count": 3,
   "id": "caebfeff",
   "metadata": {},
   "outputs": [
    {
     "ename": "TypeError",
     "evalue": "exceptions must derive from BaseException",
     "output_type": "error",
     "traceback": [
      "\u001b[1;31m---------------------------------------------------------------------------\u001b[0m",
      "\u001b[1;31mZeroDivisionError\u001b[0m                         Traceback (most recent call last)",
      "Cell \u001b[1;32mIn[3], line 6\u001b[0m, in \u001b[0;36mcalculate_value\u001b[1;34m(numerator, denominator)\u001b[0m\n\u001b[0;32m      5\u001b[0m \u001b[38;5;28;01mtry\u001b[39;00m:\n\u001b[1;32m----> 6\u001b[0m     value \u001b[38;5;241m=\u001b[39m numerator \u001b[38;5;241m/\u001b[39m denominator\n\u001b[0;32m      7\u001b[0m \u001b[38;5;28;01mexcept\u001b[39;00m \u001b[38;5;167;01mZeroDivisionError\u001b[39;00m \u001b[38;5;28;01mas\u001b[39;00m e:\n",
      "\u001b[1;31mZeroDivisionError\u001b[0m: division by zero",
      "\nDuring handling of the above exception, another exception occurred:\n",
      "\u001b[1;31mTypeError\u001b[0m                                 Traceback (most recent call last)",
      "Cell \u001b[1;32mIn[3], line 10\u001b[0m\n\u001b[0;32m      7\u001b[0m     \u001b[38;5;28;01mexcept\u001b[39;00m \u001b[38;5;167;01mZeroDivisionError\u001b[39;00m \u001b[38;5;28;01mas\u001b[39;00m e:\n\u001b[0;32m      8\u001b[0m         \u001b[38;5;28;01mraise\u001b[39;00m OwnMath \u001b[38;5;28;01mfrom\u001b[39;00m \u001b[38;5;21;01me\u001b[39;00m\n\u001b[1;32m---> 10\u001b[0m calculate_value(\u001b[38;5;241m4\u001b[39m, \u001b[38;5;241m0\u001b[39m)\n",
      "Cell \u001b[1;32mIn[3], line 8\u001b[0m, in \u001b[0;36mcalculate_value\u001b[1;34m(numerator, denominator)\u001b[0m\n\u001b[0;32m      6\u001b[0m     value \u001b[38;5;241m=\u001b[39m numerator \u001b[38;5;241m/\u001b[39m denominator\n\u001b[0;32m      7\u001b[0m \u001b[38;5;28;01mexcept\u001b[39;00m \u001b[38;5;167;01mZeroDivisionError\u001b[39;00m \u001b[38;5;28;01mas\u001b[39;00m e:\n\u001b[1;32m----> 8\u001b[0m     \u001b[38;5;28;01mraise\u001b[39;00m OwnMath \u001b[38;5;28;01mfrom\u001b[39;00m \u001b[38;5;21;01me\u001b[39;00m\n",
      "\u001b[1;31mTypeError\u001b[0m: exceptions must derive from BaseException"
     ]
    }
   ],
   "source": [
    "class OwnMath:\n",
    "    pass\n",
    "\n",
    "def calculate_value(numerator, denominator):\n",
    "    try:\n",
    "        value = numerator / denominator\n",
    "    except ZeroDivisionError as e:\n",
    "        raise OwnMath from e\n",
    "        \n",
    "calculate_value(4, 0)"
   ]
  },
  {
   "cell_type": "code",
   "execution_count": 4,
   "id": "dc79e8d2",
   "metadata": {},
   "outputs": [
    {
     "ename": "SyntaxError",
     "evalue": "expected ':' (483262955.py, line 2)",
     "output_type": "error",
     "traceback": [
      "\u001b[1;36m  Cell \u001b[1;32mIn[4], line 2\u001b[1;36m\u001b[0m\n\u001b[1;33m    def level1_wrapper(my_function)\u001b[0m\n\u001b[1;37m                                   ^\u001b[0m\n\u001b[1;31mSyntaxError\u001b[0m\u001b[1;31m:\u001b[0m expected ':'\n"
     ]
    }
   ],
   "source": [
    "def my_decorator(coating):\n",
    "    def level1_wrapper(my_function)\n",
    "        def level2_wrapper(*args)\n",
    "            my_function(*args)\n",
    "        return level2_wrapper\n",
    "    \n",
    "    return level1_wrapper"
   ]
  },
  {
   "cell_type": "code",
   "execution_count": null,
   "id": "c48bf43e",
   "metadata": {},
   "outputs": [],
   "source": [
    "class Item:\n",
    "    def __init__(self, initial_value):\n",
    "        self.value = initial_value\n",
    "    \n",
    "    def __ne__(self, other):\n",
    "        ..."
   ]
  }
 ],
 "metadata": {
  "kernelspec": {
   "display_name": "Python 3 (ipykernel)",
   "language": "python",
   "name": "python3"
  },
  "language_info": {
   "codemirror_mode": {
    "name": "ipython",
    "version": 3
   },
   "file_extension": ".py",
   "mimetype": "text/x-python",
   "name": "python",
   "nbconvert_exporter": "python",
   "pygments_lexer": "ipython3",
   "version": "3.11.5"
  }
 },
 "nbformat": 4,
 "nbformat_minor": 5
}
